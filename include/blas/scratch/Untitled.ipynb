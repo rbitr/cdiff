{
 "cells": [
  {
   "cell_type": "code",
   "execution_count": 1,
   "id": "streaming-bryan",
   "metadata": {},
   "outputs": [],
   "source": [
    "import numpy as np\n"
   ]
  },
  {
   "cell_type": "code",
   "execution_count": 4,
   "id": "fatal-static",
   "metadata": {},
   "outputs": [],
   "source": [
    "W = np.random.random((3,5))"
   ]
  },
  {
   "cell_type": "code",
   "execution_count": 6,
   "id": "interesting-terrorism",
   "metadata": {},
   "outputs": [],
   "source": [
    "X = np.random.random((5,7)) # each column is a data vector of 5 elements"
   ]
  },
  {
   "cell_type": "code",
   "execution_count": 12,
   "id": "forward-sheep",
   "metadata": {},
   "outputs": [],
   "source": [
    "Y = np.matmul(W,X)"
   ]
  },
  {
   "cell_type": "code",
   "execution_count": 13,
   "id": "hydraulic-bermuda",
   "metadata": {},
   "outputs": [
    {
     "data": {
      "text/plain": [
       "(3, 7)"
      ]
     },
     "execution_count": 13,
     "metadata": {},
     "output_type": "execute_result"
    }
   ],
   "source": [
    "Y.shape # each column is a data vector of 3 elements"
   ]
  },
  {
   "cell_type": "code",
   "execution_count": 24,
   "id": "filled-clothing",
   "metadata": {},
   "outputs": [],
   "source": [
    "b = np.ones((3,1)); b[1]=0"
   ]
  },
  {
   "cell_type": "code",
   "execution_count": 25,
   "id": "surrounded-energy",
   "metadata": {},
   "outputs": [
    {
     "data": {
      "text/plain": [
       "array([[1.],\n",
       "       [0.],\n",
       "       [1.]])"
      ]
     },
     "execution_count": 25,
     "metadata": {},
     "output_type": "execute_result"
    }
   ],
   "source": [
    "b"
   ]
  },
  {
   "cell_type": "code",
   "execution_count": 26,
   "id": "vietnamese-indication",
   "metadata": {},
   "outputs": [
    {
     "data": {
      "text/plain": [
       "array([[2.1629058 , 1.80570549, 2.35698668, 1.77040384, 2.04138546,\n",
       "        2.74438714, 1.99889648],\n",
       "       [1.72096189, 1.58718853, 1.88711713, 0.64576737, 1.88964137,\n",
       "        2.0088652 , 1.81233546],\n",
       "       [2.61808491, 2.06834307, 2.91855649, 2.01666475, 2.52317438,\n",
       "        3.03480308, 2.45261408]])"
      ]
     },
     "execution_count": 26,
     "metadata": {},
     "output_type": "execute_result"
    }
   ],
   "source": [
    "Y+b # b gets added column-wise"
   ]
  },
  {
   "cell_type": "code",
   "execution_count": 27,
   "id": "hazardous-scanner",
   "metadata": {},
   "outputs": [
    {
     "data": {
      "text/plain": [
       "array([[1.1629058 , 0.80570549, 1.35698668, 0.77040384, 1.04138546,\n",
       "        1.74438714, 0.99889648],\n",
       "       [1.72096189, 1.58718853, 1.88711713, 0.64576737, 1.88964137,\n",
       "        2.0088652 , 1.81233546],\n",
       "       [1.61808491, 1.06834307, 1.91855649, 1.01666475, 1.52317438,\n",
       "        2.03480308, 1.45261408]])"
      ]
     },
     "execution_count": 27,
     "metadata": {},
     "output_type": "execute_result"
    }
   ],
   "source": [
    "Y"
   ]
  },
  {
   "cell_type": "code",
   "execution_count": 36,
   "id": "communist-socket",
   "metadata": {},
   "outputs": [],
   "source": [
    "### so some function that rolls us to one output point per input vecotor would give a 7 element vector\n",
    "u = np.random.random((1,3))\n",
    "s= np.matmul(u,Y)"
   ]
  },
  {
   "cell_type": "code",
   "execution_count": 37,
   "id": "parallel-worst",
   "metadata": {},
   "outputs": [
    {
     "data": {
      "text/plain": [
       "array([[0.30888573, 0.66733611, 0.87951837]])"
      ]
     },
     "execution_count": 37,
     "metadata": {},
     "output_type": "execute_result"
    }
   ],
   "source": [
    "#ds/db = ds/dY * dy/db\n",
    "u\n"
   ]
  },
  {
   "cell_type": "code",
   "execution_count": null,
   "id": "bored-limitation",
   "metadata": {},
   "outputs": [],
   "source": []
  }
 ],
 "metadata": {
  "kernelspec": {
   "display_name": "Python 3",
   "language": "python",
   "name": "python3"
  },
  "language_info": {
   "codemirror_mode": {
    "name": "ipython",
    "version": 3
   },
   "file_extension": ".py",
   "mimetype": "text/x-python",
   "name": "python",
   "nbconvert_exporter": "python",
   "pygments_lexer": "ipython3",
   "version": "3.8.5"
  }
 },
 "nbformat": 4,
 "nbformat_minor": 5
}
