{
 "cells": [
  {
   "cell_type": "code",
   "execution_count": 203,
   "id": "small-combining",
   "metadata": {},
   "outputs": [],
   "source": [
    "import numpy as np\n",
    "npr = lambda x: np.random.randn(*x)\n",
    "from copy import copy\n",
    "import matplotlib.pyplot as plt"
   ]
  },
  {
   "cell_type": "code",
   "execution_count": 170,
   "id": "heard-harvest",
   "metadata": {},
   "outputs": [],
   "source": [
    "def layer(W, B):\n",
    "    assert(W.shape[-1]==B.shape[0])\n",
    "    d = {\"W\":W, \"B\":B}\n",
    "    def linear(X):\n",
    "        return np.matmul(X,d[\"W\"])+d[\"B\"]\n",
    "    \n",
    "    return linear\n",
    "\n",
    "def param(layer,p):\n",
    "    return layer.__closure__[0].cell_contents[p]\n",
    "\n",
    "def _relu(x):\n",
    "    if x>0.: return x\n",
    "\n",
    "    return 0.\n",
    "\n",
    "def relu(X):\n",
    "    return np.vectorize(_relu)(X)\n",
    "\n",
    "def sigmoid(x):\n",
    "    return 0.5 * (np.tanh(x / 2) + 1)\n",
    "\n",
    "def _cross_ent(targets):\n",
    "    d = {\"T\":targets}\n",
    "    def cross_ent(X):\n",
    "        label_probs = X * d[\"T\"] + (1 - X) * (1 - d[\"T\"])\n",
    "        return -np.log(label_probs)\n",
    "    return cross_ent\n",
    "\n",
    "def vjp(l,p,X,dldy):\n",
    "    if l.__name__ == \"linear\":\n",
    "        if p=='X':\n",
    "            return np.matmul(dldy,param(l,'W').T)\n",
    "        if p=='W':\n",
    "            return np.matmul(X.T,dldy)\n",
    "        if p=='B':\n",
    "            return np.matmul(np.ones((1,dldy.shape[0])),dldy)\n",
    "            #return np.matmul(np.ones(dldy.T.shape),dldy)\n",
    "            #return dldy\n",
    "        \n",
    "    if l.__name__ == 'relu':\n",
    "        #print(X)\n",
    "        #print(dldy)\n",
    "        return (dldy*relu(np.sign(X))).reshape(dldy.shape)\n",
    "    \n",
    "    if l.__name__ == 'sigmoid':\n",
    "        #print(X)\n",
    "        #print(dldy)\n",
    "        return (dldy*0.5/(np.cosh(X)**2)).reshape(dldy.shape)\n",
    "        #return 0.5/(np.cosh(dldy)**2)\n",
    "    \n",
    "    if l.__name__ == 'cross_ent':\n",
    "        T = param(l,'T')\n",
    "        #return (-T/dldy + (1-T)/(1-dldy+.0001))\n",
    "        return (((-T/X + (1-T)/(1-X+.0001)))*dldy).reshape(dldy.shape)\n",
    "    \n",
    "def nn(layers):\n",
    "    def forward(X):\n",
    "        _X = copy(X)\n",
    "        for l in layers:\n",
    "            _X = l(_X)\n",
    "            \n",
    "        return _X\n",
    "    \n",
    "    return forward\n",
    "\n",
    "def gradient(layers):\n",
    "    def backward(X):\n",
    "        forwards = [X, layers[0](X)]\n",
    "        for ix,l in enumerate(layers[1:]):\n",
    "            forwards.append(l(forwards[ix+1]))\n",
    "                \n",
    "        dldy = np.ones((X.shape[0],1)) #number of points in minibatch\n",
    "        #output = layers[-1]\n",
    "        grads = [dldy]\n",
    "        param_grads = []\n",
    "        \n",
    "        #print(\"forward layers\")\n",
    "        #for f in forwards:\n",
    "            #print(f.shape)\n",
    "        \n",
    "        for l,f in zip(layers[::-1],forwards[-2::-1]):\n",
    "            #if hasattr(l,\"__name__\"): \n",
    "            #    print(l.__name__)\n",
    "            #else:\n",
    "            #    print(\"unnamed layer\")\n",
    "            #print(\"forward\", f.shape)\n",
    "            #print(\"dldy\", grads[-1].shape)\n",
    "            # harder than you think because you need the intermittent forward values too\n",
    "            grads.append(vjp(l,'X',f,grads[-1])) # the f getting passed is currently the output...\n",
    "            \n",
    "            if hasattr(l,\"__name__\") and l.__name__ == \"linear\":\n",
    "                # ultimately needs to identify the parameters a layer has and take gradient\n",
    "                param_grads.append(vjp(l,'W',f,grads[-2])) # grads just got one appended earlier\n",
    "                param_grads.append(vjp(l,'B',f,grads[-2]))\n",
    "            \n",
    "        return grads, param_grads\n",
    "            \n",
    "    return backward"
   ]
  },
  {
   "cell_type": "code",
   "execution_count": 158,
   "id": "average-allowance",
   "metadata": {},
   "outputs": [],
   "source": [
    "X0=npr((10,2))"
   ]
  },
  {
   "cell_type": "code",
   "execution_count": 74,
   "id": "minus-greece",
   "metadata": {},
   "outputs": [],
   "source": [
    "T = relu(np.sign(npr((10,1))))"
   ]
  },
  {
   "cell_type": "code",
   "execution_count": 208,
   "id": "naked-crisis",
   "metadata": {},
   "outputs": [
    {
     "data": {
      "text/plain": [
       "<matplotlib.collections.PathCollection at 0x7fe6a0bab610>"
      ]
     },
     "execution_count": 208,
     "metadata": {},
     "output_type": "execute_result"
    },
    {
     "data": {
      "image/png": "[encoded data removed]",
      "text/plain": [
       "<Figure size 432x288 with 1 Axes>"
      ]
     },
     "metadata": {
      "needs_background": "light"
     },
     "output_type": "display_data"
    }
   ],
   "source": [
    "plt.scatter(*X0.T,c=T)"
   ]
  },
  {
   "cell_type": "code",
   "execution_count": 226,
   "id": "delayed-conflict",
   "metadata": {},
   "outputs": [],
   "source": [
    "pts0 = \"\\n\".join([f\"{x} {y}\" for (x,y),t in zip(X0,T) if t == 0])\n",
    "pts1 = \"\\n\".join([f\"{x} {y}\" for (x,y),t in zip(X0,T) if t == 1])"
   ]
  },
  {
   "cell_type": "code",
   "execution_count": 243,
   "id": "illegal-arthritis",
   "metadata": {},
   "outputs": [
    {
     "name": "stdout",
     "output_type": "stream",
     "text": [
      "\f",
      "                                                                                \r\n",
      "  0.8 +---------------------------------------------------------------------+   \r\n",
      "      |        +        +       +        +        +        +       +        |   \r\n",
      "  0.6 |-+                                                              0  +-|   \r\n",
      "      |                                                                1    |   \r\n",
      "  0.4 |-+                   1                                             +-|   \r\n",
      "      |                        1                                            |   \r\n",
      "  0.2 |-+                                                                 +-|   \r\n",
      "      |                                                                     |   \r\n",
      "    0 |-+                                        1                        +-|   \r\n",
      "      |                                                                     |   \r\n",
      "      |                           1                                         |   \r\n",
      " -0.2 |-+                                                                 +-|   \r\n",
      "      |                                             0                       |   \r\n",
      " -0.4 |-+                                                                 +-|   \r\n",
      "      |                                                                     |   \r\n",
      " -0.6 |-+                                                                 +-|   \r\n",
      "      |                                                                     |   \r\n",
      " -0.8 |-+             0                          0                     0  +-|   \r\n",
      "      |                                                                     |   \r\n",
      "   -1 |-+                                              1                  +-|   \r\n",
      "      |        +        +       +        +        +        +       +        |   \r\n",
      " -1.2 +---------------------------------------------------------------------+   \r\n",
      "     -2      -1.5      -1     -0.5       0       0.5       1      1.5       2   \r\n",
      "                                                                                \r\n"
     ]
    }
   ],
   "source": [
    "#q = f\"\\\"set terminal dumb 80 25; plot '<(echo \\\\\\\"{pts0}\\\\\\\")' pt \\\\\\\"0\\\\\\\", '<(echo \\\\\\\"{pts1}\\\\\\\")' pt \\\\\\\"1\\\\\\\" \\\"\"\n",
    "q = f\"\"\" \"set terminal dumb 80 25; plot '<(echo \\\\\\\"{pts0}\\\\\\\")' pt \\\\\\\"0\\\\\\\", \n",
    "          '<(echo \\\\\\\"{pts1}\\\\\\\")' pt \\\\\\\"1\\\\\\\"\" \"\"\"\n",
    "! gnuplot -e {q}"
   ]
  },
  {
   "cell_type": "code",
   "execution_count": 148,
   "id": "vocal-ideal",
   "metadata": {},
   "outputs": [
    {
     "name": "stdout",
     "output_type": "stream",
     "text": [
      "w [[1.73055387]\n",
      " [1.80019044]\n",
      " [0.39957699]]\n",
      "b [-0.46963782]\n",
      "forward [[-0.63343622]\n",
      " [-0.70968161]\n",
      " [ 0.86107676]\n",
      " [-7.08299552]\n",
      " [ 3.57476487]\n",
      " [ 1.5244394 ]\n",
      " [-1.2022072 ]\n",
      " [-1.6839921 ]\n",
      " [-1.5734111 ]\n",
      " [ 2.03257764]]\n",
      "forward layers\n",
      "(10, 3)\n",
      "(10, 1)\n",
      "linear\n",
      "forward (10, 3)\n",
      "dldy (10, 1)\n",
      "backward ([array([[1.],\n",
      "       [1.],\n",
      "       [1.],\n",
      "       [1.],\n",
      "       [1.],\n",
      "       [1.],\n",
      "       [1.],\n",
      "       [1.],\n",
      "       [1.],\n",
      "       [1.]]), array([[1.73055387, 1.80019044, 0.39957699],\n",
      "       [1.73055387, 1.80019044, 0.39957699],\n",
      "       [1.73055387, 1.80019044, 0.39957699],\n",
      "       [1.73055387, 1.80019044, 0.39957699],\n",
      "       [1.73055387, 1.80019044, 0.39957699],\n",
      "       [1.73055387, 1.80019044, 0.39957699],\n",
      "       [1.73055387, 1.80019044, 0.39957699],\n",
      "       [1.73055387, 1.80019044, 0.39957699],\n",
      "       [1.73055387, 1.80019044, 0.39957699],\n",
      "       [1.73055387, 1.80019044, 0.39957699]])], [array([[ 1.21838856],\n",
      "       [-1.09673855],\n",
      "       [-0.8274642 ]]), array([[10.]])])\n"
     ]
    }
   ],
   "source": [
    "X0=npr((10,3))\n",
    "# One layer\n",
    "W0 = npr((3,1))\n",
    "print(\"w\", W0)\n",
    "B0 = npr((1,))\n",
    "print(\"b\" ,B0)\n",
    "net0 = [layer(W0,B0)]\n",
    "\n",
    "print(\"forward\",nn(net0)(X0))\n",
    "print(\"backward\",gradient(net0)(X0))"
   ]
  },
  {
   "cell_type": "code",
   "execution_count": 149,
   "id": "related-visibility",
   "metadata": {},
   "outputs": [
    {
     "data": {
      "text/plain": [
       "array([[ 1.21838856],\n",
       "       [-1.09673855],\n",
       "       [-0.8274642 ]])"
      ]
     },
     "execution_count": 149,
     "metadata": {},
     "output_type": "execute_result"
    }
   ],
   "source": [
    "np.matmul(X0.T,np.ones((10,1)))"
   ]
  },
  {
   "cell_type": "code",
   "execution_count": 159,
   "id": "varying-communication",
   "metadata": {},
   "outputs": [],
   "source": [
    "W0 = npr((2,8))\n",
    "B0 = npr((8,))\n",
    "\n",
    "W1 = npr((8,1))\n",
    "B1 = npr((1,))\n",
    "\n",
    "net = [layer(W0,B0),\n",
    "       relu,\n",
    "       layer(W1,B1),\n",
    "       sigmoid,\n",
    "      _cross_ent(T),\n",
    "      ]\n",
    "\n"
   ]
  },
  {
   "cell_type": "code",
   "execution_count": null,
   "id": "comparative-thumb",
   "metadata": {},
   "outputs": [],
   "source": []
  },
  {
   "cell_type": "code",
   "execution_count": 155,
   "id": "precise-blogger",
   "metadata": {},
   "outputs": [
    {
     "data": {
      "text/plain": [
       "array([[0.00837835],\n",
       "       [0.19276058],\n",
       "       [0.13623502],\n",
       "       [0.04050117],\n",
       "       [3.30045681],\n",
       "       [0.86477098],\n",
       "       [1.99751314],\n",
       "       [0.31558672],\n",
       "       [0.25287841],\n",
       "       [2.12045479]])"
      ]
     },
     "execution_count": 155,
     "metadata": {},
     "output_type": "execute_result"
    }
   ],
   "source": [
    "\n",
    "nn(net)(X0)"
   ]
  },
  {
   "cell_type": "code",
   "execution_count": 164,
   "id": "irish-independence",
   "metadata": {},
   "outputs": [
    {
     "name": "stdout",
     "output_type": "stream",
     "text": [
      "forward layers\n",
      "(10, 2)\n",
      "(10, 8)\n",
      "(10, 8)\n",
      "(10, 1)\n",
      "(10, 1)\n",
      "(10, 1)\n",
      "cross_ent\n",
      "forward (10, 1)\n",
      "dldy (10, 1)\n",
      "sigmoid\n",
      "forward (10, 1)\n",
      "dldy (10, 1)\n",
      "linear\n",
      "forward (10, 8)\n",
      "dldy (10, 1)\n",
      "relu\n",
      "forward (10, 8)\n",
      "dldy (10, 8)\n",
      "linear\n",
      "forward (10, 2)\n",
      "dldy (10, 8)\n"
     ]
    },
    {
     "data": {
      "text/plain": [
       "([array([[1.],\n",
       "         [1.],\n",
       "         [1.],\n",
       "         [1.],\n",
       "         [1.],\n",
       "         [1.],\n",
       "         [1.],\n",
       "         [1.],\n",
       "         [1.],\n",
       "         [1.]]),\n",
       "  array([[-1.91831913],\n",
       "         [-5.69349804],\n",
       "         [-4.77204738],\n",
       "         [-3.09089477],\n",
       "         [ 3.76862738],\n",
       "         [ 1.80903816],\n",
       "         [ 1.62880945],\n",
       "         [-9.74970976],\n",
       "         [-3.36426057],\n",
       "         [ 1.96904085]]),\n",
       "  array([[-0.95222888],\n",
       "         [-0.47299349],\n",
       "         [-0.58557673],\n",
       "         [-0.93655283],\n",
       "         [ 0.76883374],\n",
       "         [ 0.86523294],\n",
       "         [ 0.66175746],\n",
       "         [-0.24817742],\n",
       "         [-0.86611452],\n",
       "         [ 0.98357196]]),\n",
       "  array([[ 0.42176461, -1.9960671 , -1.32442574,  0.6364643 ,  0.22337309,\n",
       "          -0.14192671, -0.53314807,  0.68895206],\n",
       "         [ 0.20949996, -0.99149141, -0.65787204,  0.31614613,  0.11095443,\n",
       "          -0.07049819, -0.26482663,  0.34221798],\n",
       "         [ 0.25936573, -1.22748897, -0.81446059,  0.39139611,  0.13736412,\n",
       "          -0.08727836, -0.32786141,  0.42367366],\n",
       "         [ 0.41482132, -1.96320689, -1.30262241,  0.62598652,  0.21969581,\n",
       "          -0.13959024, -0.52437113,  0.6776102 ],\n",
       "         [-0.34053458,  1.61163327,  1.06934711, -0.51388404, -0.1803524 ,\n",
       "           0.11459224,  0.43046607, -0.5562629 ],\n",
       "         [-0.38323206,  1.81370577,  1.20342578, -0.57831672, -0.20296565,\n",
       "           0.12896024,  0.48443949, -0.62600918],\n",
       "         [-0.29310797,  1.38717941,  0.92041801, -0.44231487, -0.15523453,\n",
       "           0.09863286,  0.37051461, -0.47879158],\n",
       "         [ 0.10992363, -0.52023079, -0.34518231,  0.16588036,  0.05821726,\n",
       "          -0.03699006, -0.13895326,  0.17956013],\n",
       "         [ 0.38362253, -1.81555373, -1.20465194,  0.57890595,  0.20317245,\n",
       "          -0.12909163, -0.48493308,  0.62664702],\n",
       "         [-0.4356472 ,  2.06176863,  1.36801986, -0.65741383, -0.23072552,\n",
       "           0.14659829,  0.5506969 , -0.71162926]]),\n",
       "  array([[ 0.        , -1.9960671 , -0.        ,  0.6364643 ,  0.22337309,\n",
       "          -0.        , -0.        ,  0.        ],\n",
       "         [ 0.        , -0.99149141, -0.        ,  0.31614613,  0.11095443,\n",
       "          -0.        , -0.26482663,  0.34221798],\n",
       "         [ 0.        , -1.22748897, -0.        ,  0.39139611,  0.13736412,\n",
       "          -0.        , -0.32786141,  0.42367366],\n",
       "         [ 0.        , -1.96320689, -0.        ,  0.62598652,  0.        ,\n",
       "          -0.        , -0.        ,  0.        ],\n",
       "         [-0.        ,  0.        ,  1.06934711, -0.51388404, -0.1803524 ,\n",
       "           0.        ,  0.        , -0.        ],\n",
       "         [-0.        ,  1.81370577,  0.        , -0.57831672, -0.20296565,\n",
       "           0.12896024,  0.48443949, -0.62600918],\n",
       "         [-0.        ,  1.38717941,  0.        , -0.44231487, -0.15523453,\n",
       "           0.        ,  0.        , -0.        ],\n",
       "         [ 0.10992363, -0.52023079, -0.        ,  0.16588036,  0.05821726,\n",
       "          -0.03699006, -0.13895326,  0.17956013],\n",
       "         [ 0.        , -1.81555373, -0.        ,  0.57890595,  0.20317245,\n",
       "          -0.12909163, -0.48493308,  0.62664702],\n",
       "         [-0.        ,  2.06176863,  0.        , -0.65741383, -0.23072552,\n",
       "           0.        ,  0.5506969 , -0.71162926]]),\n",
       "  array([[ 0.60573457,  0.89804341],\n",
       "         [-0.16523145,  0.40998654],\n",
       "         [-0.2045603 ,  0.50757269],\n",
       "         [ 0.69938178,  1.07752469],\n",
       "         [ 1.81140072, -0.03609386],\n",
       "         [ 0.10415372, -0.98056453],\n",
       "         [-0.42095906, -0.62410093],\n",
       "         [-0.05829267,  0.27569442],\n",
       "         [-0.10425984,  0.98156361],\n",
       "         [ 0.34359251, -0.8525514 ]])],\n",
       " [array([[-0.00777018],\n",
       "         [ 0.02030816],\n",
       "         [ 0.56377618],\n",
       "         [-2.97015625],\n",
       "         [ 0.65991413],\n",
       "         [ 1.7140822 ],\n",
       "         [-0.688168  ],\n",
       "         [-1.94692185]]),\n",
       "  array([[-0.78224776]]),\n",
       "  array([[-0.21811399,  0.48570747,  1.85819092, -1.04784207, -0.46902164,\n",
       "          -0.015259  ,  0.56899784, -0.73527836],\n",
       "         [ 0.08758037, -2.57271195, -0.84709434,  1.22741134,  0.41757782,\n",
       "          -0.11271722, -1.08268424,  1.39908138]]),\n",
       "  array([[ 0.10992363, -3.25138508,  1.06934711,  0.5228499 , -0.03619676,\n",
       "          -0.03712146, -0.181438  ,  0.23446035]])])"
      ]
     },
     "execution_count": 164,
     "metadata": {},
     "output_type": "execute_result"
    }
   ],
   "source": [
    "gradient(net)(X0)"
   ]
  },
  {
   "cell_type": "code",
   "execution_count": 199,
   "id": "helpful-practitioner",
   "metadata": {},
   "outputs": [
    {
     "name": "stdout",
     "output_type": "stream",
     "text": [
      "Step: 0, Loss[4.69456538]\n",
      "Step: 1, Loss[4.6904952]\n",
      "Step: 2, Loss[4.68647694]\n",
      "Step: 3, Loss[4.68243824]\n",
      "Step: 4, Loss[4.6784624]\n",
      "Step: 5, Loss[4.67453026]\n",
      "Step: 6, Loss[4.67058939]\n",
      "Step: 7, Loss[4.6667028]\n",
      "Step: 8, Loss[4.66285312]\n",
      "Step: 9, Loss[4.65900425]\n",
      "Step: 10, Loss[4.65520252]\n",
      "Step: 11, Loss[4.65143218]\n",
      "Step: 12, Loss[4.64767016]\n",
      "Step: 13, Loss[4.64394943]\n",
      "Step: 14, Loss[4.64025572]\n",
      "Step: 15, Loss[4.63657597]\n",
      "Step: 16, Loss[4.63293282]\n",
      "Step: 17, Loss[4.62931337]\n",
      "Step: 18, Loss[4.62574641]\n",
      "Step: 19, Loss[4.62213869]\n",
      "Step: 20, Loss[4.61859312]\n",
      "Step: 21, Loss[4.61509766]\n",
      "Step: 22, Loss[4.61156367]\n",
      "Step: 23, Loss[4.60814088]\n",
      "Step: 24, Loss[4.60481513]\n",
      "Step: 25, Loss[4.60147695]\n",
      "Step: 26, Loss[4.59815186]\n",
      "Step: 27, Loss[4.59486716]\n",
      "Step: 28, Loss[4.59159982]\n",
      "Step: 29, Loss[4.5883199]\n",
      "Step: 30, Loss[4.58509176]\n",
      "Step: 31, Loss[4.58186257]\n",
      "Step: 32, Loss[4.57865706]\n",
      "Step: 33, Loss[4.57548579]\n",
      "Step: 34, Loss[4.572293]\n",
      "Step: 35, Loss[4.56916276]\n",
      "Step: 36, Loss[4.56604829]\n",
      "Step: 37, Loss[4.56288989]\n",
      "Step: 38, Loss[4.55983625]\n",
      "Step: 39, Loss[4.55674405]\n",
      "Step: 40, Loss[4.55367439]\n",
      "Step: 41, Loss[4.55066332]\n",
      "Step: 42, Loss[4.5476309]\n",
      "Step: 43, Loss[4.54461576]\n",
      "Step: 44, Loss[4.5416372]\n",
      "Step: 45, Loss[4.53867975]\n",
      "Step: 46, Loss[4.53571802]\n",
      "Step: 47, Loss[4.53277562]\n",
      "Step: 48, Loss[4.52988475]\n",
      "Step: 49, Loss[4.52696938]\n",
      "Step: 50, Loss[4.52408177]\n",
      "Step: 51, Loss[4.52121479]\n",
      "Step: 52, Loss[4.51837628]\n",
      "Step: 53, Loss[4.51554243]\n",
      "Step: 54, Loss[4.51269676]\n",
      "Step: 55, Loss[4.50993467]\n",
      "Step: 56, Loss[4.50715353]\n",
      "Step: 57, Loss[4.50435284]\n",
      "Step: 58, Loss[4.50161726]\n",
      "Step: 59, Loss[4.49890294]\n",
      "Step: 60, Loss[4.49614804]\n",
      "Step: 61, Loss[4.4934314]\n",
      "Step: 62, Loss[4.49079672]\n",
      "Step: 63, Loss[4.48808598]\n",
      "Step: 64, Loss[4.48541363]\n",
      "Step: 65, Loss[4.48280563]\n",
      "Step: 66, Loss[4.48015467]\n",
      "Step: 67, Loss[4.4775292]\n",
      "Step: 68, Loss[4.47491042]\n",
      "Step: 69, Loss[4.47236271]\n",
      "Step: 70, Loss[4.46977841]\n",
      "Step: 71, Loss[4.46720074]\n",
      "Step: 72, Loss[4.46466431]\n",
      "Step: 73, Loss[4.46216003]\n",
      "Step: 74, Loss[4.45962198]\n",
      "Step: 75, Loss[4.45710832]\n",
      "Step: 76, Loss[4.45465807]\n",
      "Step: 77, Loss[4.45216252]\n",
      "Step: 78, Loss[4.44969122]\n",
      "Step: 79, Loss[4.44725166]\n",
      "Step: 80, Loss[4.44482814]\n",
      "Step: 81, Loss[4.44239795]\n",
      "Step: 82, Loss[4.43999791]\n",
      "Step: 83, Loss[4.43758565]\n",
      "Step: 84, Loss[4.4352172]\n",
      "Step: 85, Loss[4.43286148]\n",
      "Step: 86, Loss[4.43046263]\n",
      "Step: 87, Loss[4.42814346]\n",
      "Step: 88, Loss[4.42580334]\n",
      "Step: 89, Loss[4.42347391]\n",
      "Step: 90, Loss[4.42116085]\n",
      "Step: 91, Loss[4.41888842]\n",
      "Step: 92, Loss[4.41659102]\n",
      "Step: 93, Loss[4.41432013]\n",
      "Step: 94, Loss[4.41204041]\n",
      "Step: 95, Loss[4.4098197]\n",
      "Step: 96, Loss[4.40758987]\n",
      "Step: 97, Loss[4.40533377]\n",
      "Step: 98, Loss[4.40312423]\n",
      "Step: 99, Loss[4.40095924]\n",
      "Step: 100, Loss[4.39873476]\n",
      "Step: 101, Loss[4.39654357]\n",
      "Step: 102, Loss[4.39440869]\n",
      "Step: 103, Loss[4.39223281]\n",
      "Step: 104, Loss[4.39008058]\n",
      "Step: 105, Loss[4.38792641]\n",
      "Step: 106, Loss[4.385816]\n",
      "Step: 107, Loss[4.38371516]\n",
      "Step: 108, Loss[4.3815907]\n",
      "Step: 109, Loss[4.37948614]\n",
      "Step: 110, Loss[4.37743102]\n",
      "Step: 111, Loss[4.3753463]\n",
      "Step: 112, Loss[4.37327478]\n",
      "Step: 113, Loss[4.37122679]\n",
      "Step: 114, Loss[4.36918092]\n",
      "Step: 115, Loss[4.3671523]\n",
      "Step: 116, Loss[4.36514048]\n",
      "Step: 117, Loss[4.36309324]\n",
      "Step: 118, Loss[4.36110443]\n",
      "Step: 119, Loss[4.35914048]\n",
      "Step: 120, Loss[4.35712085]\n",
      "Step: 121, Loss[4.35514015]\n",
      "Step: 122, Loss[4.35317937]\n",
      "Step: 123, Loss[4.35123548]\n",
      "Step: 124, Loss[4.34928892]\n",
      "Step: 125, Loss[4.34733243]\n",
      "Step: 126, Loss[4.34540904]\n",
      "Step: 127, Loss[4.34351875]\n",
      "Step: 128, Loss[4.3415884]\n",
      "Step: 129, Loss[4.33967907]\n",
      "Step: 130, Loss[4.33779689]\n",
      "Step: 131, Loss[4.33592342]\n",
      "Step: 132, Loss[4.33404305]\n",
      "Step: 133, Loss[4.33218658]\n",
      "Step: 134, Loss[4.33029904]\n",
      "Step: 135, Loss[4.32847677]\n",
      "Step: 136, Loss[4.32665181]\n",
      "Step: 137, Loss[4.32478963]\n",
      "Step: 138, Loss[4.32295874]\n",
      "Step: 139, Loss[4.32115465]\n",
      "Step: 140, Loss[4.31935829]\n",
      "Step: 141, Loss[4.31755778]\n",
      "Step: 142, Loss[4.31575467]\n",
      "Step: 143, Loss[4.31397113]\n",
      "Step: 144, Loss[4.3122292]\n",
      "Step: 145, Loss[4.31045017]\n",
      "Step: 146, Loss[4.30868607]\n",
      "Step: 147, Loss[4.3069364]\n",
      "Step: 148, Loss[4.30520183]\n",
      "Step: 149, Loss[4.30347135]\n",
      "Step: 150, Loss[4.30175029]\n",
      "Step: 151, Loss[4.30001093]\n",
      "Step: 152, Loss[4.29829847]\n",
      "Step: 153, Loss[4.29663302]\n",
      "Step: 154, Loss[4.29491712]\n",
      "Step: 155, Loss[4.2932228]\n",
      "Step: 156, Loss[4.2915491]\n",
      "Step: 157, Loss[4.28987039]\n",
      "Step: 158, Loss[4.28821406]\n",
      "Step: 159, Loss[4.28656715]\n",
      "Step: 160, Loss[4.28488979]\n",
      "Step: 161, Loss[4.28323765]\n",
      "Step: 162, Loss[4.28164175]\n",
      "Step: 163, Loss[4.27998914]\n",
      "Step: 164, Loss[4.27836148]\n",
      "Step: 165, Loss[4.27675868]\n",
      "Step: 166, Loss[4.27512292]\n",
      "Step: 167, Loss[4.27354909]\n",
      "Step: 168, Loss[4.27197121]\n",
      "Step: 169, Loss[4.27035463]\n",
      "Step: 170, Loss[4.26876738]\n",
      "Step: 171, Loss[4.26719071]\n",
      "Step: 172, Loss[4.26564696]\n",
      "Step: 173, Loss[4.26408364]\n",
      "Step: 174, Loss[4.26252171]\n",
      "Step: 175, Loss[4.26096795]\n",
      "Step: 176, Loss[4.25942832]\n",
      "Step: 177, Loss[4.25791289]\n",
      "Step: 178, Loss[4.25638177]\n",
      "Step: 179, Loss[4.25485707]\n",
      "Step: 180, Loss[4.2533319]\n",
      "Step: 181, Loss[4.25182009]\n",
      "Step: 182, Loss[4.25034471]\n",
      "Step: 183, Loss[4.2488417]\n",
      "Step: 184, Loss[4.24734733]\n",
      "Step: 185, Loss[4.24585927]\n",
      "Step: 186, Loss[4.24437079]\n",
      "Step: 187, Loss[4.24292039]\n",
      "Step: 188, Loss[4.24145545]\n",
      "Step: 189, Loss[4.23998926]\n",
      "Step: 190, Loss[4.23853093]\n",
      "Step: 191, Loss[4.23707772]\n",
      "Step: 192, Loss[4.23564386]\n",
      "Step: 193, Loss[4.23421959]\n",
      "Step: 194, Loss[4.23278666]\n",
      "Step: 195, Loss[4.23135709]\n",
      "Step: 196, Loss[4.22993363]\n",
      "Step: 197, Loss[4.22851624]\n",
      "Step: 198, Loss[4.22715421]\n",
      "Step: 199, Loss[4.22572975]\n"
     ]
    }
   ],
   "source": [
    "α = -0.001\n",
    "\n",
    "for step in range(200):\n",
    "\n",
    "    L = sum(nn(net)(X0))\n",
    "    \n",
    "    _, dLdθ = gradient(net)(X0)\n",
    "    \n",
    "    W0 += α*dLdθ[2] #npr((2,8))\n",
    "    B0 += α*dLdθ[3].reshape((B0.shape))#npr((8,))\n",
    "\n",
    "    W1 += α*dLdθ[0]#npr((8,1))\n",
    "    B1 += α*dLdθ[1].reshape((B1.shape))#npr((1,))\n",
    "\n",
    "    net = [layer(W0,B0),\n",
    "           relu,\n",
    "           layer(W1,B1),\n",
    "           sigmoid,\n",
    "          _cross_ent(T),\n",
    "          ]\n",
    "\n",
    "    print(f\"Step: {step}, Loss{L}\")"
   ]
  },
  {
   "cell_type": "code",
   "execution_count": 202,
   "id": "varying-norway",
   "metadata": {},
   "outputs": [
    {
     "data": {
      "text/plain": [
       "(array([[1.],\n",
       "        [1.],\n",
       "        [1.],\n",
       "        [1.],\n",
       "        [0.],\n",
       "        [0.],\n",
       "        [0.],\n",
       "        [1.],\n",
       "        [1.],\n",
       "        [0.]]),\n",
       " array([[0.28419233],\n",
       "        [0.86822659],\n",
       "        [0.824939  ],\n",
       "        [0.67466447],\n",
       "        [0.27817295],\n",
       "        [0.25527162],\n",
       "        [0.51804129],\n",
       "        [0.92787335],\n",
       "        [0.66765963],\n",
       "        [0.33601737]]))"
      ]
     },
     "execution_count": 202,
     "metadata": {},
     "output_type": "execute_result"
    }
   ],
   "source": [
    "T, nn([layer(W0,B0),\n",
    "           relu,\n",
    "           layer(W1,B1),\n",
    "           sigmoid])(X0)\n",
    "\n"
   ]
  },
  {
   "cell_type": "code",
   "execution_count": 35,
   "id": "innocent-jungle",
   "metadata": {},
   "outputs": [
    {
     "data": {
      "text/plain": [
       "array([[ 0.25868469, -0.33853791,  0.35323498, -1.31896634, -0.495626  ,\n",
       "         0.944606  ,  1.75982006,  1.19081875,  0.62265902,  0.5937588 ,\n",
       "        -1.23721566],\n",
       "       [-0.12819499,  0.47318345, -0.25728679,  0.44622397,  0.66339957,\n",
       "         0.52773896, -2.40250011, -1.74731376,  0.69796225, -1.00843892,\n",
       "         0.25316545]])"
      ]
     },
     "execution_count": 35,
     "metadata": {},
     "output_type": "execute_result"
    }
   ],
   "source": [
    "vjp(l,\"X\",None,None)"
   ]
  },
  {
   "cell_type": "code",
   "execution_count": 27,
   "id": "overhead-relevance",
   "metadata": {},
   "outputs": [
    {
     "data": {
      "text/plain": [
       "array([[ 3.19286904, -0.61372544],\n",
       "       [-0.13359287,  0.21586159],\n",
       "       [-1.03912588,  0.52074493],\n",
       "       [ 0.27700373,  0.23124329],\n",
       "       [ 0.09528518, -1.79675132],\n",
       "       [-1.03568727,  0.25050668],\n",
       "       [ 0.57368232,  0.15906007],\n",
       "       [ 0.20231178, -0.91939465],\n",
       "       [-0.93411415,  1.37111166],\n",
       "       [-0.37805048,  0.02722566],\n",
       "       [-0.72707132, -0.62567994]])"
      ]
     },
     "execution_count": 27,
     "metadata": {},
     "output_type": "execute_result"
    }
   ],
   "source": [
    "param(l,'W')"
   ]
  },
  {
   "cell_type": "code",
   "execution_count": 62,
   "id": "reflected-shadow",
   "metadata": {},
   "outputs": [
    {
     "data": {
      "text/plain": [
       "[8, 7, 6, 5, 4, 3, 2, 1, 0]"
      ]
     },
     "execution_count": 62,
     "metadata": {},
     "output_type": "execute_result"
    }
   ],
   "source": [
    "x = list(range(10))\n",
    "x[-2::-1]"
   ]
  },
  {
   "cell_type": "code",
   "execution_count": 29,
   "id": "emerging-inquiry",
   "metadata": {},
   "outputs": [
    {
     "data": {
      "text/plain": [
       "'f'"
      ]
     },
     "execution_count": 29,
     "metadata": {},
     "output_type": "execute_result"
    }
   ],
   "source": [
    "l.__name__"
   ]
  },
  {
   "cell_type": "code",
   "execution_count": 39,
   "id": "south-preliminary",
   "metadata": {},
   "outputs": [
    {
     "data": {
      "text/plain": [
       "['__call__',\n",
       " '__class__',\n",
       " '__delattr__',\n",
       " '__dict__',\n",
       " '__dir__',\n",
       " '__doc__',\n",
       " '__eq__',\n",
       " '__format__',\n",
       " '__ge__',\n",
       " '__getattribute__',\n",
       " '__gt__',\n",
       " '__hash__',\n",
       " '__init__',\n",
       " '__init_subclass__',\n",
       " '__le__',\n",
       " '__lt__',\n",
       " '__module__',\n",
       " '__ne__',\n",
       " '__new__',\n",
       " '__reduce__',\n",
       " '__reduce_ex__',\n",
       " '__repr__',\n",
       " '__setattr__',\n",
       " '__sizeof__',\n",
       " '__str__',\n",
       " '__subclasshook__',\n",
       " '__weakref__',\n",
       " '_get_ufunc_and_otypes',\n",
       " '_in_and_out_core_dims',\n",
       " '_ufunc',\n",
       " '_vectorize_call',\n",
       " '_vectorize_call_with_signature',\n",
       " 'cache',\n",
       " 'excluded',\n",
       " 'otypes',\n",
       " 'pyfunc',\n",
       " 'signature']"
      ]
     },
     "execution_count": 39,
     "metadata": {},
     "output_type": "execute_result"
    }
   ],
   "source": [
    "dir(relu)"
   ]
  },
  {
   "cell_type": "code",
   "execution_count": 44,
   "id": "objective-heritage",
   "metadata": {},
   "outputs": [
    {
     "data": {
      "text/plain": [
       "'_relu'"
      ]
     },
     "execution_count": 44,
     "metadata": {},
     "output_type": "execute_result"
    }
   ],
   "source": [
    "relu.pyfunc.__name__"
   ]
  },
  {
   "cell_type": "code",
   "execution_count": 45,
   "id": "indie-undergraduate",
   "metadata": {},
   "outputs": [
    {
     "data": {
      "text/plain": [
       "True"
      ]
     },
     "execution_count": 45,
     "metadata": {},
     "output_type": "execute_result"
    }
   ],
   "source": [
    "hasattr(relu,\"pyfunc\")"
   ]
  },
  {
   "cell_type": "code",
   "execution_count": 70,
   "id": "suitable-superior",
   "metadata": {},
   "outputs": [],
   "source": [
    "q = np.array([1,2,3,4]).reshape((2,2))\n",
    "r = np.array([5,6]).reshape(2,1)"
   ]
  },
  {
   "cell_type": "code",
   "execution_count": 71,
   "id": "jewish-fellowship",
   "metadata": {},
   "outputs": [
    {
     "data": {
      "text/plain": [
       "array([[ 5, 12],\n",
       "       [15, 24]])"
      ]
     },
     "execution_count": 71,
     "metadata": {},
     "output_type": "execute_result"
    }
   ],
   "source": [
    "q*r.T"
   ]
  },
  {
   "cell_type": "code",
   "execution_count": 73,
   "id": "impaired-removal",
   "metadata": {},
   "outputs": [
    {
     "data": {
      "text/plain": [
       "array([[17],\n",
       "       [39]])"
      ]
     },
     "execution_count": 73,
     "metadata": {},
     "output_type": "execute_result"
    }
   ],
   "source": [
    "np.matmul(q,r)"
   ]
  },
  {
   "cell_type": "code",
   "execution_count": 74,
   "id": "premium-simulation",
   "metadata": {},
   "outputs": [
    {
     "data": {
      "text/plain": [
       "array([[17],\n",
       "       [39]])"
      ]
     },
     "execution_count": 74,
     "metadata": {},
     "output_type": "execute_result"
    }
   ],
   "source": [
    "np.dot(q,r)"
   ]
  },
  {
   "cell_type": "code",
   "execution_count": 137,
   "id": "indirect-accused",
   "metadata": {},
   "outputs": [],
   "source": [
    "g = list(range(10))"
   ]
  },
  {
   "cell_type": "code",
   "execution_count": 146,
   "id": "postal-glenn",
   "metadata": {},
   "outputs": [
    {
     "data": {
      "text/plain": [
       "[8, 7, 6, 5, 4, 3, 2, 1, 0]"
      ]
     },
     "execution_count": 146,
     "metadata": {},
     "output_type": "execute_result"
    }
   ],
   "source": [
    "g[-2::-1]"
   ]
  },
  {
   "cell_type": "code",
   "execution_count": 141,
   "id": "hawaiian-satellite",
   "metadata": {},
   "outputs": [
    {
     "data": {
      "text/plain": [
       "[0, 1, 2, 3, 4, 5, 6, 7, 8, 9]"
      ]
     },
     "execution_count": 141,
     "metadata": {},
     "output_type": "execute_result"
    }
   ],
   "source": [
    "g"
   ]
  },
  {
   "cell_type": "code",
   "execution_count": null,
   "id": "necessary-jackson",
   "metadata": {},
   "outputs": [],
   "source": []
  }
 ],
 "metadata": {
  "kernelspec": {
   "display_name": "Python 3",
   "language": "python",
   "name": "python3"
  },
  "language_info": {
   "codemirror_mode": {
    "name": "ipython",
    "version": 3
   },
   "file_extension": ".py",
   "mimetype": "text/x-python",
   "name": "python",
   "nbconvert_exporter": "python",
   "pygments_lexer": "ipython3",
   "version": "3.8.5"
  }
 },
 "nbformat": 4,
 "nbformat_minor": 5
}
