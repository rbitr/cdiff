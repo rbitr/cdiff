{
 "cells": [
  {
   "cell_type": "code",
   "execution_count": 4,
   "id": "laden-promotion",
   "metadata": {},
   "outputs": [],
   "source": [
    "import numpy as np\n",
    "npr = np.random.random"
   ]
  },
  {
   "cell_type": "code",
   "execution_count": 7,
   "id": "dramatic-canberra",
   "metadata": {},
   "outputs": [],
   "source": [
    "X = npr((10,2))"
   ]
  },
  {
   "cell_type": "code",
   "execution_count": 8,
   "id": "hazardous-greeting",
   "metadata": {},
   "outputs": [
    {
     "data": {
      "text/plain": [
       "array([[0.26287869, 0.27229263],\n",
       "       [0.32641664, 0.83941329],\n",
       "       [0.51956314, 0.54189685],\n",
       "       [0.31369354, 0.08814412],\n",
       "       [0.84412969, 0.97669103],\n",
       "       [0.44878978, 0.22345152],\n",
       "       [0.26107496, 0.85379466],\n",
       "       [0.3341591 , 0.45556927],\n",
       "       [0.6738017 , 0.02884697],\n",
       "       [0.81643066, 0.06952515]])"
      ]
     },
     "execution_count": 8,
     "metadata": {},
     "output_type": "execute_result"
    }
   ],
   "source": [
    "X"
   ]
  },
  {
   "cell_type": "code",
   "execution_count": 13,
   "id": "dress-signature",
   "metadata": {},
   "outputs": [
    {
     "data": {
      "text/plain": [
       "array([[0.16748245],\n",
       "       [0.995335  ]])"
      ]
     },
     "execution_count": 13,
     "metadata": {},
     "output_type": "execute_result"
    }
   ],
   "source": [
    "W = npr((2,1))\n",
    "W"
   ]
  },
  {
   "cell_type": "code",
   "execution_count": 18,
   "id": "furnished-tuning",
   "metadata": {},
   "outputs": [
    {
     "data": {
      "text/plain": [
       "array([0.37483698])"
      ]
     },
     "execution_count": 18,
     "metadata": {},
     "output_type": "execute_result"
    }
   ],
   "source": [
    "b = npr(1)\n",
    "b"
   ]
  },
  {
   "cell_type": "code",
   "execution_count": 16,
   "id": "jewish-swaziland",
   "metadata": {},
   "outputs": [
    {
     "data": {
      "text/plain": [
       "array([[0.31504995],\n",
       "       [0.89016649],\n",
       "       [0.62638661],\n",
       "       [0.14027109],\n",
       "       [1.11351168],\n",
       "       [0.29757354],\n",
       "       [0.89353719],\n",
       "       [0.50940982],\n",
       "       [0.14156236],\n",
       "       [0.20593863]])"
      ]
     },
     "execution_count": 16,
     "metadata": {},
     "output_type": "execute_result"
    }
   ],
   "source": [
    "np.matmul(X,W)"
   ]
  },
  {
   "cell_type": "code",
   "execution_count": 23,
   "id": "possible-nigeria",
   "metadata": {},
   "outputs": [
    {
     "data": {
      "text/plain": [
       "array([[0.68988693],\n",
       "       [1.26500347],\n",
       "       [1.00122359],\n",
       "       [0.51510807],\n",
       "       [1.48834866],\n",
       "       [0.67241052],\n",
       "       [1.26837417],\n",
       "       [0.8842468 ],\n",
       "       [0.51639934],\n",
       "       [0.58077561]])"
      ]
     },
     "execution_count": 23,
     "metadata": {},
     "output_type": "execute_result"
    }
   ],
   "source": [
    "Y=np.matmul(X,W) + b*np.ones((10,1))\n",
    "Y"
   ]
  },
  {
   "cell_type": "code",
   "execution_count": 28,
   "id": "integrated-physics",
   "metadata": {},
   "outputs": [
    {
     "data": {
      "text/plain": [
       "array([4.80093791, 4.34962548])"
      ]
     },
     "execution_count": 28,
     "metadata": {},
     "output_type": "execute_result"
    }
   ],
   "source": [
    "# dldw[k] += dldy[l]*dyds[l]*dsdwi;\n",
    "# each row in x (transposed) is dy/dw for that row in y\n",
    "# 1 is dy/db for that row in y\n",
    "sum(X)"
   ]
  },
  {
   "cell_type": "code",
   "execution_count": 24,
   "id": "intelligent-meter",
   "metadata": {},
   "outputs": [
    {
     "data": {
      "text/plain": [
       "array([[0.16748245],\n",
       "       [0.995335  ]])"
      ]
     },
     "execution_count": 24,
     "metadata": {},
     "output_type": "execute_result"
    }
   ],
   "source": [
    "W"
   ]
  },
  {
   "cell_type": "code",
   "execution_count": 30,
   "id": "fatty-mainstream",
   "metadata": {},
   "outputs": [],
   "source": [
    "W0 = npr((11,2))\n",
    "X0 = npr((10,11))"
   ]
  },
  {
   "cell_type": "code",
   "execution_count": 33,
   "id": "metropolitan-queensland",
   "metadata": {},
   "outputs": [
    {
     "data": {
      "text/plain": [
       "array([[2.27882901, 2.014375  ],\n",
       "       [2.53711262, 2.67405159],\n",
       "       [2.88552265, 3.42560621],\n",
       "       [3.01273565, 3.4425    ],\n",
       "       [1.68700695, 2.05436226],\n",
       "       [2.16607869, 1.96967053],\n",
       "       [3.22643233, 3.3490796 ],\n",
       "       [3.20694832, 3.05813332],\n",
       "       [3.25637805, 3.51214737],\n",
       "       [2.03803476, 2.62323533]])"
      ]
     },
     "execution_count": 33,
     "metadata": {},
     "output_type": "execute_result"
    }
   ],
   "source": [
    "X = np.matmul(X0,W0)\n",
    "X"
   ]
  },
  {
   "cell_type": "code",
   "execution_count": 34,
   "id": "proper-magnitude",
   "metadata": {},
   "outputs": [
    {
     "data": {
      "text/plain": [
       "array([[2.76147881],\n",
       "       [3.46133598],\n",
       "       [4.26773716],\n",
       "       [4.30585809],\n",
       "       [2.70215971],\n",
       "       [2.69809918],\n",
       "       [4.24866394],\n",
       "       [3.9558117 ],\n",
       "       [4.41598639],\n",
       "       [3.32716999]])"
      ]
     },
     "execution_count": 34,
     "metadata": {},
     "output_type": "execute_result"
    }
   ],
   "source": [
    "Y=np.matmul(X,W) + b*np.ones((10,1))\n",
    "Y"
   ]
  },
  {
   "cell_type": "code",
   "execution_count": 37,
   "id": "third-decrease",
   "metadata": {},
   "outputs": [
    {
     "data": {
      "text/plain": [
       "array([[0.16748245],\n",
       "       [0.995335  ]])"
      ]
     },
     "metadata": {},
     "output_type": "display_data"
    },
    {
     "data": {
      "text/plain": [
       "array([[0.8055881 , 0.00488238, 0.52317917, 0.11309795, 0.38737585,\n",
       "        0.76248791, 0.69849786, 0.21961957, 0.09706173, 0.17423576,\n",
       "        0.83618596],\n",
       "       [0.71060083, 0.02278039, 0.72913805, 0.41775453, 0.37542355,\n",
       "        0.85427692, 0.7095655 , 0.51346797, 0.3241253 , 0.21857299,\n",
       "        0.64151293],\n",
       "       [0.41979138, 0.66619757, 0.67108811, 0.62295625, 0.79503509,\n",
       "        0.33844447, 0.95033704, 0.45810169, 0.35482643, 0.36198029,\n",
       "        0.57255385],\n",
       "       [0.7199008 , 0.99322182, 0.28655013, 0.74415093, 0.27221296,\n",
       "        0.14434365, 0.49841309, 0.74981321, 0.02282357, 0.46641304,\n",
       "        0.56302557],\n",
       "       [0.62960605, 0.36134236, 0.50090449, 0.43288622, 0.10373873,\n",
       "        0.04997121, 0.40094024, 0.03121893, 0.86711724, 0.62488871,\n",
       "        0.07064501],\n",
       "       [0.93849475, 0.04668371, 0.0026064 , 0.05609568, 0.02915662,\n",
       "        0.57410103, 0.27460708, 0.50088289, 0.76511317, 0.29016871,\n",
       "        0.7273039 ],\n",
       "       [0.95917556, 0.30423168, 0.11098123, 0.12671322, 0.54294156,\n",
       "        0.80587179, 0.0425217 , 0.97636941, 0.88636836, 0.94330348,\n",
       "        0.15023253],\n",
       "       [0.86643402, 0.16010313, 0.81737664, 0.21923028, 0.43000853,\n",
       "        0.33529515, 0.07067514, 0.94781109, 0.82444555, 0.99510493,\n",
       "        0.64155518],\n",
       "       [0.65868751, 0.86241669, 0.4266977 , 0.36906415, 0.6102795 ,\n",
       "        0.33012965, 0.30033658, 0.89367676, 0.03215982, 0.86655287,\n",
       "        0.30448268],\n",
       "       [0.36259489, 0.92570754, 0.19462311, 0.3638867 , 0.5569013 ,\n",
       "        0.2932523 , 0.51833972, 0.15895055, 0.6487419 , 0.08642546,\n",
       "        0.29550574]])"
      ]
     },
     "metadata": {},
     "output_type": "display_data"
    }
   ],
   "source": [
    "# dY/dw0 = dy/dX * dX/dw0\n",
    "display(W) # dy/dx\n",
    "display(X0) # dx / dw0\n",
    "# each row in X0 scalar multiplies each element of W here to get the weight update"
   ]
  },
  {
   "cell_type": "code",
   "execution_count": 41,
   "id": "delayed-seeking",
   "metadata": {},
   "outputs": [
    {
     "data": {
      "text/plain": [
       "(11, 10)"
      ]
     },
     "execution_count": 41,
     "metadata": {},
     "output_type": "execute_result"
    }
   ],
   "source": [
    "X0.T.shape"
   ]
  },
  {
   "cell_type": "code",
   "execution_count": 42,
   "id": "fancy-parker",
   "metadata": {},
   "outputs": [
    {
     "data": {
      "text/plain": [
       "(10, 2)"
      ]
     },
     "execution_count": 42,
     "metadata": {},
     "output_type": "execute_result"
    }
   ],
   "source": [
    "X.shape"
   ]
  },
  {
   "cell_type": "code",
   "execution_count": 43,
   "id": "geographic-impression",
   "metadata": {},
   "outputs": [
    {
     "data": {
      "text/plain": [
       "array([[18.87110415, 19.707808  ],\n",
       "       [11.8842775 , 13.57212327],\n",
       "       [11.45805173, 12.20363638],\n",
       "       [ 9.26421326, 10.38603257],\n",
       "       [11.4406804 , 12.45299092],\n",
       "       [11.99233489, 12.3630863 ],\n",
       "       [11.30526894, 12.41337683],\n",
       "       [15.94553876, 16.74081399],\n",
       "       [12.18692356, 12.94924134],\n",
       "       [14.31671593, 15.10890266],\n",
       "       [12.71196683, 13.18674088]])"
      ]
     },
     "execution_count": 43,
     "metadata": {},
     "output_type": "execute_result"
    }
   ],
   "source": [
    "np.matmul(X0.T,X) # dX/DW0"
   ]
  },
  {
   "cell_type": "code",
   "execution_count": 47,
   "id": "existing-ensemble",
   "metadata": {},
   "outputs": [
    {
     "data": {
      "text/plain": [
       "(10, 11)"
      ]
     },
     "execution_count": 47,
     "metadata": {},
     "output_type": "execute_result"
    }
   ],
   "source": [
    "np.matmul(X,W0.T).shape # dX/DX0"
   ]
  },
  {
   "cell_type": "code",
   "execution_count": null,
   "id": "accepting-bridges",
   "metadata": {},
   "outputs": [],
   "source": []
  }
 ],
 "metadata": {
  "kernelspec": {
   "display_name": "Python 3",
   "language": "python",
   "name": "python3"
  },
  "language_info": {
   "codemirror_mode": {
    "name": "ipython",
    "version": 3
   },
   "file_extension": ".py",
   "mimetype": "text/x-python",
   "name": "python",
   "nbconvert_exporter": "python",
   "pygments_lexer": "ipython3",
   "version": "3.8.5"
  }
 },
 "nbformat": 4,
 "nbformat_minor": 5
}
