{
 "cells": [
  {
   "cell_type": "code",
   "execution_count": 1,
   "id": "middle-accused",
   "metadata": {},
   "outputs": [],
   "source": [
    "import numpy as np\n",
    "npr = lambda x: np.random.randn(*x)\n",
    "import re"
   ]
  },
  {
   "cell_type": "code",
   "execution_count": 30,
   "id": "limited-ethernet",
   "metadata": {},
   "outputs": [],
   "source": [
    "def _relu(x):\n",
    "    if x>0.: return x\n",
    "\n",
    "    return 0.\n",
    "\n",
    "relu = np.vectorize(_relu)\n",
    "\n",
    "def sigmoid(x):\n",
    "    return 0.5 * (np.tanh(x / 2) + 1)"
   ]
  },
  {
   "cell_type": "code",
   "execution_count": 3,
   "id": "aggressive-style",
   "metadata": {},
   "outputs": [],
   "source": [
    "def loss(preds, targets):\n",
    "    #preds = predict(W, b, inputs)\n",
    "    label_probs = preds * targets + (1 - preds) * (1 - targets)\n",
    "    return -np.log(label_probs)"
   ]
  },
  {
   "cell_type": "code",
   "execution_count": 4,
   "id": "early-oracle",
   "metadata": {},
   "outputs": [],
   "source": [
    "X0 = npr((10,11))\n",
    "\n",
    "W0 = npr((11,2))\n",
    "B0 = npr((2,))"
   ]
  },
  {
   "cell_type": "code",
   "execution_count": 5,
   "id": "international-mixer",
   "metadata": {},
   "outputs": [],
   "source": [
    "Y0 = np.matmul(X0,W0)+B0\n",
    "\n",
    "X1 = relu(Y0)"
   ]
  },
  {
   "cell_type": "code",
   "execution_count": 6,
   "id": "flying-physiology",
   "metadata": {},
   "outputs": [],
   "source": [
    "W1 = npr((2,1))\n",
    "B1 = npr((1,))"
   ]
  },
  {
   "cell_type": "code",
   "execution_count": 7,
   "id": "gentle-monaco",
   "metadata": {},
   "outputs": [],
   "source": [
    "Y1 = np.matmul(X1,W1) + B1"
   ]
  },
  {
   "cell_type": "code",
   "execution_count": 13,
   "id": "afraid-intensity",
   "metadata": {},
   "outputs": [],
   "source": [
    "S1 = sigmoid(Y1)\n",
    "T = np.ones(S1.shape)\n",
    "L1 = loss(S1,T)"
   ]
  },
  {
   "cell_type": "code",
   "execution_count": 9,
   "id": "racial-suspension",
   "metadata": {},
   "outputs": [
    {
     "name": "stdout",
     "output_type": "stream",
     "text": [
      "X0: \n",
      "(10, 11)\n",
      "W0: \n",
      "(11, 2)\n",
      "B0: \n",
      "(2,)\n",
      "Y0: \n",
      "(10, 2)\n",
      "X1: \n",
      "(10, 2)\n",
      "W1: \n",
      "(2, 1)\n",
      "B1: \n",
      "(1,)\n",
      "Y1: \n",
      "(10, 1)\n",
      "S1: \n",
      "(10, 1)\n",
      "L1: \n",
      "(10, 1)\n"
     ]
    }
   ],
   "source": [
    "vars = [k for k in locals() if re.match(\"^[A-Z][0-9]\", k) ]\n",
    "for v in vars:\n",
    "    print(f\"{v}: \")\n",
    "    print(locals()[v].shape)"
   ]
  },
  {
   "cell_type": "code",
   "execution_count": 10,
   "id": "fatty-apartment",
   "metadata": {},
   "outputs": [
    {
     "data": {
      "text/plain": [
       "array([[0.84914219],\n",
       "       [0.67786   ],\n",
       "       [6.47333578],\n",
       "       [0.97743349],\n",
       "       [0.78919186],\n",
       "       [0.62650186],\n",
       "       [1.68850463],\n",
       "       [0.84914219],\n",
       "       [0.44930255],\n",
       "       [0.91190638]])"
      ]
     },
     "execution_count": 10,
     "metadata": {},
     "output_type": "execute_result"
    }
   ],
   "source": [
    "L1"
   ]
  },
  {
   "cell_type": "code",
   "execution_count": 17,
   "id": "developmental-average",
   "metadata": {},
   "outputs": [],
   "source": [
    "# DL1/DS1\n",
    "DL1_DS1 = -T/S1 + (1-T)/(1-S1)\n",
    "\n",
    "# DS1/DY1 \n",
    "DS1_DY1 = 0.5/(np.cosh(Y1)**2)"
   ]
  },
  {
   "cell_type": "code",
   "execution_count": 18,
   "id": "descending-kernel",
   "metadata": {},
   "outputs": [
    {
     "data": {
      "text/plain": [
       "array([[4.59964047e-01],\n",
       "       [4.99525620e-01],\n",
       "       [4.78301887e-06],\n",
       "       [3.91262071e-01],\n",
       "       [4.83505282e-01],\n",
       "       [4.90590682e-01],\n",
       "       [9.29727328e-02],\n",
       "       [4.59964047e-01],\n",
       "       [3.68333303e-01],\n",
       "       [4.28420922e-01]])"
      ]
     },
     "execution_count": 18,
     "metadata": {},
     "output_type": "execute_result"
    }
   ],
   "source": [
    "DS1_DY1"
   ]
  },
  {
   "cell_type": "code",
   "execution_count": 74,
   "id": "interim-vision",
   "metadata": {},
   "outputs": [],
   "source": [
    "DL1_DY1 = DL1_DS1 * DS1_DY1"
   ]
  },
  {
   "cell_type": "code",
   "execution_count": 87,
   "id": "august-bennett",
   "metadata": {},
   "outputs": [
    {
     "data": {
      "text/plain": [
       "array([[-1.0752307 ],\n",
       "       [-0.98389471],\n",
       "       [-0.00309768],\n",
       "       [-1.0398285 ],\n",
       "       [-1.0644932 ],\n",
       "       [-0.91792161],\n",
       "       [-0.50311103],\n",
       "       [-1.0752307 ],\n",
       "       [-0.57725886],\n",
       "       [-1.06636671]])"
      ]
     },
     "execution_count": 87,
     "metadata": {},
     "output_type": "execute_result"
    }
   ],
   "source": [
    "DL1_DY1"
   ]
  },
  {
   "cell_type": "code",
   "execution_count": 88,
   "id": "economic-holly",
   "metadata": {},
   "outputs": [
    {
     "data": {
      "text/plain": [
       "array([[-1.19328074,  0.10723971]])"
      ]
     },
     "execution_count": 88,
     "metadata": {},
     "output_type": "execute_result"
    }
   ],
   "source": [
    "W1.T"
   ]
  },
  {
   "cell_type": "code",
   "execution_count": 79,
   "id": "single-developer",
   "metadata": {},
   "outputs": [],
   "source": [
    "DL1_DX1 = np.matmul(DL1_DY1, W1.T)"
   ]
  },
  {
   "cell_type": "code",
   "execution_count": 85,
   "id": "proof-court",
   "metadata": {},
   "outputs": [],
   "source": [
    "DL1_DW1 = np.matmul(X1.T, DL1_DY1)"
   ]
  },
  {
   "cell_type": "code",
   "execution_count": 80,
   "id": "continent-oriental",
   "metadata": {},
   "outputs": [],
   "source": [
    "DL1_DB1 = DL1_DY1"
   ]
  },
  {
   "cell_type": "code",
   "execution_count": 81,
   "id": "opposed-mississippi",
   "metadata": {},
   "outputs": [],
   "source": [
    "DL1_DY0 = DL1_DX1 * np.sign(X1)"
   ]
  },
  {
   "cell_type": "code",
   "execution_count": 82,
   "id": "cutting-kitty",
   "metadata": {},
   "outputs": [],
   "source": [
    "DL1_DW0 = np.matmul(X0.T,DL1_DY0)"
   ]
  },
  {
   "cell_type": "code",
   "execution_count": 83,
   "id": "compressed-bulletin",
   "metadata": {},
   "outputs": [
    {
     "name": "stdout",
     "output_type": "stream",
     "text": [
      "DL1_DS1: \n",
      "(10, 1)\n",
      "DS1_DY1: \n",
      "(10, 1)\n",
      "DY1_DX1: \n",
      "(1, 2)\n",
      "DX1_DY0: \n",
      "(10, 2)\n",
      "DY0_DW0: \n",
      "(11, 10)\n",
      "DL1_DW0: \n",
      "(11, 2)\n",
      "DX1_DW0: \n",
      "(11, 2)\n",
      "DY1_DW0: \n",
      "(1, 11)\n",
      "D1L_DX0: \n",
      "(10, 11)\n",
      "DL1_DY1: \n",
      "(10, 1)\n",
      "DL1_DX1: \n",
      "(10, 2)\n",
      "DL1_DB1: \n",
      "(10, 1)\n",
      "DL1_DY0: \n",
      "(10, 2)\n"
     ]
    }
   ],
   "source": [
    "vars = [k for k in locals() if re.match(\"^[A-Z].*_\", k) ]\n",
    "for v in vars:\n",
    "    print(f\"{v}: \")\n",
    "    print(locals()[v].shape)"
   ]
  },
  {
   "cell_type": "code",
   "execution_count": null,
   "id": "inside-netherlands",
   "metadata": {},
   "outputs": [],
   "source": []
  },
  {
   "cell_type": "code",
   "execution_count": null,
   "id": "arabic-titanium",
   "metadata": {},
   "outputs": [],
   "source": []
  }
 ],
 "metadata": {
  "kernelspec": {
   "display_name": "Python 3",
   "language": "python",
   "name": "python3"
  },
  "language_info": {
   "codemirror_mode": {
    "name": "ipython",
    "version": 3
   },
   "file_extension": ".py",
   "mimetype": "text/x-python",
   "name": "python",
   "nbconvert_exporter": "python",
   "pygments_lexer": "ipython3",
   "version": "3.8.5"
  }
 },
 "nbformat": 4,
 "nbformat_minor": 5
}
